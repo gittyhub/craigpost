{
 "cells": [
  {
   "cell_type": "markdown",
   "metadata": {},
   "source": [
    "Going to scrape Craigslist and create a script to post our item for sale\n",
    "\n",
    "1)Scrape craigslist to create posting\n",
    "<br>\n",
    "2)Select the region\n",
    "<br>\n",
    "3)Select the city\n",
    "<br>\n",
    "4)Select the type\n",
    "<br>\n",
    "5)Create the post\n",
    "    Title, price, postal code, ect\n",
    "   "
   ]
  },
  {
   "cell_type": "markdown",
   "metadata": {},
   "source": [
    "Download geckdodriver. Extract to folder and point the executalbe path to the newly extracted file. Or you can add the executable to the path\n",
    "\n",
    "https://stackoverflow.com/questions/49594492/selenium-common-exceptions-webdriverexception-message-library-executable-may\n",
    "\n",
    "https://stackoverflow.com/questions/40208051/selenium-using-python-geckodriver-executable-needs-to-be-in-path"
   ]
  },
  {
   "cell_type": "code",
   "execution_count": 29,
   "metadata": {},
   "outputs": [],
   "source": [
    "import requests\n",
    "from selenium import webdriver\n",
    "from selenium.webdriver.common.keys import Keys\n",
    "\n",
    "url = 'https://craigslist.org'\n",
    "\n",
    "browser = webdriver.Firefox(executable_path=r'/home/hman/Documents/craigslist.post/geckodriver')\n",
    "browser.get(url)\n",
    "browser.find_element_by_id('post').click()\n",
    "#broswer.find_element_by_xpath(\"//input[@name='south bay area']\")\n",
    "#/html/body/article/section/form/ul/li[2]/label\n",
    "#/html/body/article/section/form/div/div/label/label[7]/input\n",
    "browser.find_element_by_css_selector(\"input[type='radio'][value='2']\").click()\n",
    "browser.find_element_by_css_selector(\"label.radio-option:nth-child(8)\").click()\n",
    "browser.find_element_by_css_selector(\"input[type='radio'][value='fso']\").click()\n",
    "\n",
    "#https://stackoverflow.com/questions/21322116/using-selenium-in-python-to-click-select-a-radio-button\n",
    "#https://www.tutorialspoint.com/how-to-select-a-radio-button-in-a-page-in-selenium-with-python"
   ]
  },
  {
   "cell_type": "code",
   "execution_count": null,
   "metadata": {},
   "outputs": [],
   "source": [
    "url = 'https://post.craigslist.org/'\n",
    "r = requests.get(url)\n",
    "browser.find_element_by_link_text(\"Click here!\").click()\n",
    "#r.text"
   ]
  },
  {
   "cell_type": "code",
   "execution_count": null,
   "metadata": {},
   "outputs": [],
   "source": [
    "driver."
   ]
  }
 ],
 "metadata": {
  "kernelspec": {
   "display_name": "Python 3",
   "language": "python",
   "name": "python3"
  },
  "language_info": {
   "codemirror_mode": {
    "name": "ipython",
    "version": 3
   },
   "file_extension": ".py",
   "mimetype": "text/x-python",
   "name": "python",
   "nbconvert_exporter": "python",
   "pygments_lexer": "ipython3",
   "version": "3.9.1"
  }
 },
 "nbformat": 4,
 "nbformat_minor": 4
}
