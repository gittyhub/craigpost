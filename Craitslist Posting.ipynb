{
 "cells": [
  {
   "cell_type": "markdown",
   "metadata": {},
   "source": [
    "Going to scrape Craigslist and create a script to post our item for sale\n",
    "\n",
    "1)Scrape craigslist to create posting\n",
    "<br>\n",
    "2)Select the region\n",
    "<br>\n",
    "3)Select the city\n",
    "<br>\n",
    "4)Select the type\n",
    "<br>\n",
    "5)Create the post\n",
    "    Title, price, postal code, ect\n",
    "   "
   ]
  },
  {
   "cell_type": "markdown",
   "metadata": {},
   "source": [
    "Download geckdodriver. Extract to folder and point the executalbe path to the newly extracted file. Or you can add the executable to the path\n",
    "\n",
    "https://stackoverflow.com/questions/49594492/selenium-common-exceptions-webdriverexception-message-library-executable-may\n",
    "\n",
    "https://stackoverflow.com/questions/40208051/selenium-using-python-geckodriver-executable-needs-to-be-in-path"
   ]
  },
  {
   "cell_type": "code",
   "execution_count": 30,
   "metadata": {},
   "outputs": [],
   "source": [
    "import requests\n",
    "import os\n",
    "from selenium import webdriver\n",
    "from selenium.webdriver.common.keys import Keys\n",
    "\n",
    "url = 'https://craigslist.org'\n",
    "\n",
    "browser = webdriver.Firefox(executable_path=r'/home/hman/Documents/craigpost/geckodriver')\n",
    "browser.get(url)\n",
    "browser.find_element_by_id('post').click()\n",
    "#broswer.find_element_by_xpath(\"//input[@name='south bay area']\")\n",
    "#/html/body/article/section/form/ul/li[2]/label\n",
    "#/html/body/article/section/form/div/div/label/label[7]/input\n",
    "browser.find_element_by_css_selector(\"input[type='radio'][value='2']\").click()\n",
    "browser.implicitly_wait(1)\n",
    "browser.find_element_by_css_selector(\"label.radio-option:nth-child(8)\").click()\n",
    "browser.implicitly_wait(1)\n",
    "browser.find_element_by_css_selector(\"input[type='radio'][value='fso']\").click()\n",
    "browser.implicitly_wait(1)\n",
    "browser.find_element_by_css_selector(\"input[type='radio'][value='96']\").click()\n",
    "\n",
    "post = '//*[@id=\"PostingTitle\"]'\n",
    "price = '/html/body/article/section/form/div/div/div[1]/label[2]/label/input'\n",
    "zipcode = '//*[@id=\"postal_code\"]'\n",
    "body = '//*[@id=\"PostingBody\"]'\n",
    "text = \"Item in good condition still works well. Saved my skin a few times from speeding tickets. Comes with the unit and charger. Does not come with the suction mount but can be found on ebay for a few bucks. \\nKeeping yourself on the right side of local traffic laws is easy with the help of the Escort Passport 8500 X50 radar detector. Encased in a discrete black housing, the 8500 still stands out among radar detectors for its reliability and ease of use.This discrete, compact detector is ready to go right out of the box as it receives power from your vehicle's auto accessory power/cigarette lighter outlet. The Passport is a complete solution, being able to detect radar on the X, K, and Ka-bands as well as notification of upcoming laser equipment. The inclusion of detection of instant-on and POP, or extremely short burst, modes means lightning-fast response time, giving you extra time to check and, if necessary, regulate your speed. The 8500 X50 also boasts impressive search range, with its sensors detecting and broadcasting an alert of Ka-band equipment from up to a mile away. This gives you more than ample time to react to scanning of targets far ahead of you on the road.An early adopter of TSR software, the Escort Passport 8500 makes use of Traffic Signal Radar to analyze and not report on the low-power radar units used by traffic signals for traffic control, doing away with many false alarms when used in urban settings. The Passport 8500 does not yet include onboard GPS, limiting detection of red-light and other camera alerts. Its superiority at laser and triple-band radar detection makes it a favorite product year after year among laser and triple-band detectors thanks to its simplicity, reliability, and features. Utilizing its 280-LED bar graph display for clear visual notification of signal strength, the 8500 X50 detector also provides audio cues with distinct tones that differentiate between each band of radar. Since the information passed by audio warnings can eventually get annoying and repetitive, the Escort X50 receiver also incorporates an AutoMute mode, which slowly brings the alert's volume down, keeping drivers informed of upcoming potential hazards with minimal intrusion. For more discreet driving at night, users can set the device to Dark Mode where the display turns LED notifications off. You can still receive visual alerts on the SmartCord accessory as directly on the lighter plug are a power cord that has a power on/off button, an alert lamp that warns of upcoming signals, and a mute button. Lastly, this device is also compatible with Escort's ESCORT Live Radar mobile app, which features regularly updated speed trap information, traffic-enforcement and photo camera locations, automatic reminders of previously noted threats, and the ability to share new threats discovered by your detector via the Escort Live network. \\n \\nBrand: Escort \\nModel: Passport 8500 X50 \\nDetection: Ka Band, Ka Superwide Band, X Band, Laser, POP Detection, K Band\"\n",
    "email = '/html/body/article/section/form/div/div/fieldset[2]/div/div/div[1]/label/label/input'\n",
    "contin = '/html/body/article/section/form/div/div/div[3]/div/button'\n",
    "contin_geo = '/html/body/article/section/form/button'\n",
    "upload = '//*[@id=\"plupload\"]'\n",
    "pic_path = '/home/hman/stinkbug.webp'\n",
    "abpath = os.path.abspath('/home/hman/images.jpg')\n",
    "path = '/home/hman/images.jpg'\n",
    "pic_contin = '/html/body/article/section/form/button'\n",
    "publish = '/html/body/article/section/div[1]/form/button'\n",
    "\n",
    "browser.find_element_by_xpath(post).send_keys(\"Escort Passport 8500 X50 Radar Detector\")\n",
    "browser.find_element_by_xpath(price).send_keys(\"85\")\n",
    "browser.find_element_by_xpath(zipcode).send_keys(\"95132\")\n",
    "browser.find_element_by_xpath(body).send_keys(text)\n",
    "browser.find_element_by_xpath(email).send_keys(\"junkindabox@gmail.com\")\n",
    "\n",
    "browser.find_element_by_xpath(contin).click()\n",
    "browser.find_element_by_xpath(contin_geo).click()\n",
    "browser.find_element_by_xpath(pic_contin).click()\n",
    "browser.find_element_by_xpath(publish).click()\n",
    "\n",
    "#browser.find_element_by_id(\"plupload\").send_keys(os.getcwd()+\"/images.jpg\")\n",
    "#browser.find_element_by_xpath(upload).send_keys(os.getcwd()+\"/images.jpg\")\n",
    "#browser.find_element_by_id(\"plupload\").send_keys(Keys.Home)\n",
    "#browser.find_element_by_xpath(upload).send_keys(os.getcwd()+\"/images.jpg\")\n",
    "#browser.find_element_by_xpath.clear() \n",
    "#browser.find_element_by_xpath(upload).send_keys(path)\n",
    "#browser.find_element_by_xpath(upload).send_keys()\n",
    "#browser.find_element_by_xpath(upload).click()\n",
    "\n",
    "#browser.find_element_by_xpath(upload).send_keys(Keys.Tab)\n",
    "#browser.find_element_by_xpath(upload).send_keys(Keys.Enter)\n",
    "#https://stackoverflow.com/questions/21322116/using-selenium-in-python-to-click-select-a-radio-button\n",
    "#https://www.tutorialspoint.com/how-to-select-a-radio-button-in-a-page-in-selenium-with-python"
   ]
  },
  {
   "cell_type": "code",
   "execution_count": 21,
   "metadata": {},
   "outputs": [],
   "source": [
    "url = 'https://post.craigslist.org/'\n",
    "r = requests.get(url)\n",
    "#browser.find_element_by_link_text(\"Click here!\").click()\n",
    "#r.text"
   ]
  },
  {
   "cell_type": "code",
   "execution_count": null,
   "metadata": {},
   "outputs": [],
   "source": [
    "driver."
   ]
  }
 ],
 "metadata": {
  "kernelspec": {
   "display_name": "Python 3",
   "language": "python",
   "name": "python3"
  },
  "language_info": {
   "codemirror_mode": {
    "name": "ipython",
    "version": 3
   },
   "file_extension": ".py",
   "mimetype": "text/x-python",
   "name": "python",
   "nbconvert_exporter": "python",
   "pygments_lexer": "ipython3",
   "version": "3.9.1"
  }
 },
 "nbformat": 4,
 "nbformat_minor": 4
}
